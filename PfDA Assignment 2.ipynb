{
 "cells": [
  {
   "cell_type": "markdown",
   "id": "e3af2c1b",
   "metadata": {},
   "source": [
    "Repo set up, initial push had errors, testing to ensure ready to start project and making commits"
   ]
  },
  {
   "cell_type": "markdown",
   "id": "ae15f19a",
   "metadata": {},
   "source": [
    "test"
   ]
  },
  {
   "cell_type": "markdown",
   "id": "59cb6a8f",
   "metadata": {},
   "source": [
    "# Investigation of the Wisconsin Breast Cancer dataset."
   ]
  },
  {
   "cell_type": "code",
   "execution_count": 1,
   "id": "838c4e7a",
   "metadata": {},
   "outputs": [],
   "source": [
    "# Step 1: Import dataset and required libraries:\n",
    "\n",
    "# NumPy for numerical operations\n",
    "import numpy as np\n",
    "\n",
    "# Pandas for data analysis\n",
    "import pandas as pd\n",
    "\n",
    "# seaborn\n",
    "import seaborn as sns\n",
    "\n",
    "# random\n",
    "import random\n",
    "\n",
    "from scipy.stats import norm\n",
    "\n",
    "# Statistics for descriptive statistics\n",
    "import statistics\n",
    "\n",
    "# Matplotlib.pyplot for plotting\n",
    "import matplotlib.pyplot as plt\n",
    "\n",
    "# sklearn\n",
    "import sklearn.neighbors as nei\n",
    "\n",
    "from sklearn.neighbors import KNeighborsClassifier\n",
    "\n",
    "# Dataset URL. Please note that this CSV file is compressed due to its size\n",
    "url=\"http://data.insideairbnb.com/ireland/leinster/dublin/2022-09-11/data/listings.csv.gz\"\n",
    "\n",
    "# Importing the CSV file:\n",
    "listingsDF = pd.read_csv(url, compression=\"gzip\")\n"
   ]
  },
  {
   "cell_type": "code",
   "execution_count": null,
   "id": "1374f81e",
   "metadata": {},
   "outputs": [],
   "source": [
    "listing"
   ]
  }
 ],
 "metadata": {
  "kernelspec": {
   "display_name": "Python 3 (ipykernel)",
   "language": "python",
   "name": "python3"
  },
  "language_info": {
   "codemirror_mode": {
    "name": "ipython",
    "version": 3
   },
   "file_extension": ".py",
   "mimetype": "text/x-python",
   "name": "python",
   "nbconvert_exporter": "python",
   "pygments_lexer": "ipython3",
   "version": "3.9.7"
  }
 },
 "nbformat": 4,
 "nbformat_minor": 5
}
