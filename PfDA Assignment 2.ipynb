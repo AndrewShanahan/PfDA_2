{
 "cells": [
  {
   "cell_type": "markdown",
   "id": "e3af2c1b",
   "metadata": {},
   "source": [
    "Repo set up, initial push had errors, testing to ensure ready to start project and making commits"
   ]
  },
  {
   "cell_type": "code",
   "execution_count": null,
   "id": "6a79d54d",
   "metadata": {},
   "outputs": [],
   "source": []
  }
 ],
 "metadata": {
  "kernelspec": {
   "display_name": "Python 3 (ipykernel)",
   "language": "python",
   "name": "python3"
  },
  "language_info": {
   "codemirror_mode": {
    "name": "ipython",
    "version": 3
   },
   "file_extension": ".py",
   "mimetype": "text/x-python",
   "name": "python",
   "nbconvert_exporter": "python",
   "pygments_lexer": "ipython3",
   "version": "3.9.7"
  }
 },
 "nbformat": 4,
 "nbformat_minor": 5
}
